{
 "cells": [
  {
   "cell_type": "code",
   "execution_count": 23,
   "metadata": {},
   "outputs": [],
   "source": [
    "from mesa import Agent, Model\n",
    "from mesa.time import RandomActivation\n",
    "from mesa.space import MultiGrid\n",
    "\n",
    "class HawkAgent(Agent):\n",
    "    \"\"\" An agent with fixed initial wealth.\"\"\"\n",
    "    def __init__(self, unique_id, model):\n",
    "        super().__init__(unique_id, model)\n",
    "        self.wealth = 1\n",
    "        \n",
    "    #...\n",
    "    def move(self):\n",
    "        possible_steps = self.model.grid.get_neighborhood(\n",
    "            self.pos,\n",
    "            moore=True,\n",
    "            include_center=False\n",
    "        )\n",
    "        new_position = self.random.choice(possible_steps)\n",
    "        self.model.grid.move_agent(self, new_position)\n",
    "        \n",
    "    #...\n",
    "    def interact(self):\n",
    "        cellmates = self.model.grid.get_cell_list_contents([self.pos])\n",
    "        if len(cellmates) > 1:\n",
    "            other = self.random.choice(cellmates)\n",
    "            other.wealth += 1\n",
    "            self.wealth -= 1\n",
    "            self.sayHello()\n",
    "            \n",
    "    def sayHello(self):\n",
    "        print('Hello I an angry hawk... you will die!')\n",
    "            \n",
    "    def step(self):\n",
    "        self.move()\n",
    "        if self.wealth > 0:\n",
    "            self.interact()\n",
    "            \n",
    "class DoveAgent(Agent):\n",
    "    \"\"\" An agent with fixed initial wealth.\"\"\"\n",
    "    def __init__(self, unique_id, model):\n",
    "        super().__init__(unique_id, model)\n",
    "        self.wealth = 1\n",
    "        \n",
    "    #...\n",
    "    def move(self):\n",
    "        possible_steps = self.model.grid.get_neighborhood(\n",
    "            self.pos,\n",
    "            moore=True,\n",
    "            include_center=False\n",
    "        )\n",
    "        new_position = self.random.choice(possible_steps)\n",
    "        self.model.grid.move_agent(self, new_position)\n",
    "        \n",
    "    #...\n",
    "    def interact(self):\n",
    "        cellmates = self.model.grid.get_cell_list_contents([self.pos])\n",
    "        if len(cellmates) > 1:\n",
    "            other = self.random.choice(cellmates)\n",
    "            other.wealth += 1\n",
    "            self.wealth -= 1\n",
    "            self.sayHello()\n",
    "            \n",
    "    def sayHello(self):\n",
    "        print('Hello I am peaceful dove... please do not kill me!')\n",
    "            \n",
    "    def step(self):\n",
    "        self.move()\n",
    "        if self.wealth > 0:\n",
    "            self.interact()\n",
    "\n",
    "class MoneyModel(Model):\n",
    "    \"\"\"A model with some number of agents.\"\"\"\n",
    "    def __init__(self, N, width, height):\n",
    "        self.num_agents = N\n",
    "        self.grid = MultiGrid(width, height, True)\n",
    "        self.schedule = RandomActivation(self)\n",
    "\n",
    "        # Create agents\n",
    "        for i in range(self.num_agents):\n",
    "            if i%2 == 0:\n",
    "                # create a dove agent\n",
    "                a = DoveAgent(i, self)\n",
    "            else:\n",
    "                # create a hawk agent\n",
    "                a = HawkAgent(i, self)\n",
    "            self.schedule.add(a)\n",
    "\n",
    "            # Add the agent to a random grid cell\n",
    "            x = self.random.randrange(self.grid.width)\n",
    "            y = self.random.randrange(self.grid.height)\n",
    "            self.grid.place_agent(a, (x, y))\n",
    "            \n",
    "    def step(self):\n",
    "        self.schedule.step()"
   ]
  },
  {
   "cell_type": "code",
   "execution_count": 24,
   "metadata": {},
   "outputs": [
    {
     "name": "stdout",
     "output_type": "stream",
     "text": [
      "Hello I am peaceful dove... please do not kill me!\n",
      "Hello I am peaceful dove... please do not kill me!\n",
      "Hello I an angry hawk... you will die!\n",
      "Hello I am peaceful dove... please do not kill me!\n",
      "Hello I an angry hawk... you will die!\n",
      "Hello I am peaceful dove... please do not kill me!\n",
      "Hello I an angry hawk... you will die!\n",
      "Hello I an angry hawk... you will die!\n",
      "Hello I am peaceful dove... please do not kill me!\n",
      "Hello I am peaceful dove... please do not kill me!\n",
      "Hello I am peaceful dove... please do not kill me!\n",
      "Hello I am peaceful dove... please do not kill me!\n",
      "Hello I an angry hawk... you will die!\n",
      "Hello I am peaceful dove... please do not kill me!\n",
      "Hello I an angry hawk... you will die!\n",
      "Hello I am peaceful dove... please do not kill me!\n",
      "Hello I an angry hawk... you will die!\n",
      "Hello I an angry hawk... you will die!\n",
      "Hello I am peaceful dove... please do not kill me!\n",
      "Hello I an angry hawk... you will die!\n",
      "Hello I am peaceful dove... please do not kill me!\n",
      "Hello I an angry hawk... you will die!\n",
      "Hello I an angry hawk... you will die!\n",
      "Hello I an angry hawk... you will die!\n",
      "Hello I an angry hawk... you will die!\n",
      "Hello I am peaceful dove... please do not kill me!\n",
      "Hello I am peaceful dove... please do not kill me!\n",
      "Hello I an angry hawk... you will die!\n",
      "Hello I an angry hawk... you will die!\n",
      "Hello I an angry hawk... you will die!\n",
      "Hello I am peaceful dove... please do not kill me!\n",
      "Hello I am peaceful dove... please do not kill me!\n",
      "Hello I an angry hawk... you will die!\n",
      "Hello I am peaceful dove... please do not kill me!\n",
      "Hello I an angry hawk... you will die!\n",
      "Hello I an angry hawk... you will die!\n",
      "Hello I an angry hawk... you will die!\n",
      "Hello I am peaceful dove... please do not kill me!\n",
      "Hello I am peaceful dove... please do not kill me!\n",
      "Hello I an angry hawk... you will die!\n",
      "Hello I an angry hawk... you will die!\n",
      "Hello I am peaceful dove... please do not kill me!\n",
      "Hello I an angry hawk... you will die!\n",
      "Hello I an angry hawk... you will die!\n",
      "Hello I am peaceful dove... please do not kill me!\n",
      "Hello I am peaceful dove... please do not kill me!\n",
      "Hello I an angry hawk... you will die!\n",
      "Hello I an angry hawk... you will die!\n",
      "Hello I an angry hawk... you will die!\n",
      "Hello I an angry hawk... you will die!\n",
      "Hello I an angry hawk... you will die!\n",
      "Hello I am peaceful dove... please do not kill me!\n",
      "Hello I an angry hawk... you will die!\n",
      "Hello I an angry hawk... you will die!\n",
      "Hello I an angry hawk... you will die!\n",
      "Hello I an angry hawk... you will die!\n",
      "Hello I am peaceful dove... please do not kill me!\n",
      "Hello I am peaceful dove... please do not kill me!\n",
      "Hello I am peaceful dove... please do not kill me!\n",
      "Hello I am peaceful dove... please do not kill me!\n",
      "Hello I an angry hawk... you will die!\n",
      "Hello I am peaceful dove... please do not kill me!\n",
      "Hello I am peaceful dove... please do not kill me!\n",
      "Hello I am peaceful dove... please do not kill me!\n",
      "Hello I an angry hawk... you will die!\n",
      "Hello I an angry hawk... you will die!\n",
      "Hello I an angry hawk... you will die!\n",
      "Hello I an angry hawk... you will die!\n",
      "Hello I am peaceful dove... please do not kill me!\n",
      "Hello I an angry hawk... you will die!\n",
      "Hello I am peaceful dove... please do not kill me!\n",
      "Hello I am peaceful dove... please do not kill me!\n",
      "Hello I am peaceful dove... please do not kill me!\n",
      "Hello I an angry hawk... you will die!\n",
      "Hello I am peaceful dove... please do not kill me!\n",
      "Hello I an angry hawk... you will die!\n",
      "Hello I an angry hawk... you will die!\n",
      "Hello I an angry hawk... you will die!\n",
      "Hello I an angry hawk... you will die!\n",
      "Hello I am peaceful dove... please do not kill me!\n",
      "Hello I am peaceful dove... please do not kill me!\n",
      "Hello I an angry hawk... you will die!\n",
      "Hello I an angry hawk... you will die!\n",
      "Hello I am peaceful dove... please do not kill me!\n",
      "Hello I an angry hawk... you will die!\n",
      "Hello I am peaceful dove... please do not kill me!\n",
      "Hello I an angry hawk... you will die!\n",
      "Hello I am peaceful dove... please do not kill me!\n",
      "Hello I am peaceful dove... please do not kill me!\n",
      "Hello I an angry hawk... you will die!\n",
      "Hello I am peaceful dove... please do not kill me!\n",
      "Hello I am peaceful dove... please do not kill me!\n",
      "Hello I am peaceful dove... please do not kill me!\n",
      "Hello I am peaceful dove... please do not kill me!\n",
      "Hello I an angry hawk... you will die!\n",
      "Hello I am peaceful dove... please do not kill me!\n",
      "Hello I am peaceful dove... please do not kill me!\n",
      "Hello I an angry hawk... you will die!\n",
      "Hello I am peaceful dove... please do not kill me!\n",
      "Hello I am peaceful dove... please do not kill me!\n",
      "Hello I am peaceful dove... please do not kill me!\n",
      "Hello I am peaceful dove... please do not kill me!\n",
      "Hello I am peaceful dove... please do not kill me!\n",
      "Hello I am peaceful dove... please do not kill me!\n",
      "Hello I am peaceful dove... please do not kill me!\n",
      "Hello I am peaceful dove... please do not kill me!\n",
      "Hello I am peaceful dove... please do not kill me!\n",
      "Hello I an angry hawk... you will die!\n",
      "Hello I an angry hawk... you will die!\n",
      "Hello I an angry hawk... you will die!\n",
      "Hello I am peaceful dove... please do not kill me!\n",
      "Hello I am peaceful dove... please do not kill me!\n",
      "Hello I an angry hawk... you will die!\n",
      "Hello I am peaceful dove... please do not kill me!\n",
      "Hello I am peaceful dove... please do not kill me!\n",
      "Hello I an angry hawk... you will die!\n",
      "Hello I am peaceful dove... please do not kill me!\n",
      "Hello I am peaceful dove... please do not kill me!\n",
      "Hello I am peaceful dove... please do not kill me!\n",
      "Hello I an angry hawk... you will die!\n",
      "Hello I an angry hawk... you will die!\n",
      "Hello I an angry hawk... you will die!\n",
      "Hello I an angry hawk... you will die!\n",
      "Hello I am peaceful dove... please do not kill me!\n",
      "Hello I an angry hawk... you will die!\n",
      "Hello I am peaceful dove... please do not kill me!\n",
      "Hello I an angry hawk... you will die!\n"
     ]
    }
   ],
   "source": [
    "model = MoneyModel(50, 10, 10)\n",
    "for i in range(10):\n",
    "    model.step()"
   ]
  },
  {
   "cell_type": "code",
   "execution_count": 25,
   "metadata": {},
   "outputs": [
    {
     "data": {
      "text/plain": [
       "(array([23.,  0., 16.,  0.,  3.,  0.,  5.,  0.,  2.,  1.]),\n",
       " array([0. , 0.5, 1. , 1.5, 2. , 2.5, 3. , 3.5, 4. , 4.5, 5. ]),\n",
       " <a list of 10 Patch objects>)"
      ]
     },
     "execution_count": 25,
     "metadata": {},
     "output_type": "execute_result"
    },
    {
     "data": {
      "image/png": "[encoded data removed]",
      "text/plain": [
       "<Figure size 432x288 with 1 Axes>"
      ]
     },
     "metadata": {
      "needs_background": "light"
     },
     "output_type": "display_data"
    }
   ],
   "source": [
    "# For a jupyter notebook add the following line:\n",
    "%matplotlib inline\n",
    "\n",
    "# The below is needed for both notebooks and scripts\n",
    "import matplotlib.pyplot as plt\n",
    "\n",
    "agent_wealth = [a.wealth for a in model.schedule.agents]\n",
    "plt.hist(agent_wealth)\n",
    "\n",
    "# If running from a text editor or IDE, remember you'll need the following:\n",
    "# plt.show()"
   ]
  },
  {
   "cell_type": "code",
   "execution_count": 26,
   "metadata": {},
   "outputs": [
    {
     "data": {
      "text/plain": [
       "<matplotlib.colorbar.Colorbar at 0x1eb5e1cde88>"
      ]
     },
     "execution_count": 26,
     "metadata": {},
     "output_type": "execute_result"
    },
    {
     "data": {
      "image/png": "[encoded data removed]",
      "text/plain": [
       "<Figure size 432x288 with 2 Axes>"
      ]
     },
     "metadata": {
      "needs_background": "light"
     },
     "output_type": "display_data"
    }
   ],
   "source": [
    "import numpy as np\n",
    "\n",
    "agent_counts = np.zeros((model.grid.width, model.grid.height))\n",
    "for cell in model.grid.coord_iter():\n",
    "    cell_content, x, y = cell\n",
    "    agent_count = len(cell_content)\n",
    "    agent_counts[x][y] = agent_count\n",
    "plt.imshow(agent_counts, interpolation='nearest')\n",
    "plt.colorbar()\n",
    "\n",
    "# If running from a text editor or IDE, remember you'll need the following:\n",
    "# plt.show()"
   ]
  },
  {
   "cell_type": "code",
   "execution_count": 14,
   "metadata": {},
   "outputs": [
    {
     "name": "stdout",
     "output_type": "stream",
     "text": [
      "0\n",
      "1\n",
      "0\n",
      "1\n"
     ]
    }
   ],
   "source": [
    "for i in range(4):\n",
    "    print(i%2)"
   ]
  },
  {
   "cell_type": "code",
   "execution_count": null,
   "metadata": {},
   "outputs": [],
   "source": []
  }
 ],
 "metadata": {
  "kernelspec": {
   "display_name": "Python 3",
   "language": "python",
   "name": "python3"
  },
  "language_info": {
   "codemirror_mode": {
    "name": "ipython",
    "version": 3
   },
   "file_extension": ".py",
   "mimetype": "text/x-python",
   "name": "python",
   "nbconvert_exporter": "python",
   "pygments_lexer": "ipython3",
   "version": "3.7.4"
  }
 },
 "nbformat": 4,
 "nbformat_minor": 2
}
